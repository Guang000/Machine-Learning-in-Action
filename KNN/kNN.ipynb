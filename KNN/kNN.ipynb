{
 "cells": [
  {
   "cell_type": "code",
   "execution_count": 1,
   "metadata": {},
   "outputs": [],
   "source": [
    "import numpy as np\n",
    "import operator\n",
    "from os import listdir"
   ]
  },
  {
   "cell_type": "code",
   "execution_count": 2,
   "metadata": {},
   "outputs": [],
   "source": [
    "def createDataSet():\n",
    "    group = np.array([[1.0, 1.1], [1.0, 1.0], [0, 0], [0, 0.1]])\n",
    "    labels = ['A', 'A', 'B', 'B']\n",
    "    return group, labels"
   ]
  },
  {
   "cell_type": "code",
   "execution_count": 3,
   "metadata": {},
   "outputs": [],
   "source": [
    "def classify0(inX, dataSet, labels, k):\n",
    "    dataSetSize = dataSet.shape[0]\n",
    "    diffMat = np.tile(inX, (dataSetSize, 1)) - dataSet #tile函数对inX进行复制\n",
    "    sqDiffMat = np.square(diffMat)\n",
    "    sqDistances = sqDiffMat.sum(axis = 1)\n",
    "    distances = np.sqrt(sqDistances)\n",
    "    sortedDistIndicies = np.argsort(distances) #argsort函数将distances从小到大排列并提取索引\n",
    "    classCount = {}\n",
    "    for i in range(k):\n",
    "        voteIlabel = labels[sortedDistIndicies[i]]\n",
    "        classCount[voteIlabel] = classCount.get(voteIlabel, 0) + 1 #字典get函数返回指定键的值，不存在则返回第二个参数默认值\n",
    "    sortedClassCount = sorted(classCount.items(), key = operator.itemgetter(1), reverse = True) #按classCount的第二属性从大到小排序\n",
    "    return sortedClassCount[0][0]"
   ]
  },
  {
   "cell_type": "code",
   "execution_count": 4,
   "metadata": {},
   "outputs": [],
   "source": [
    "def file2matrix(filename):\n",
    "    fr = open(filename)\n",
    "    arrayOLines = fr.readlines()\n",
    "    numberOfLines = len(arrayOLines)\n",
    "    returnMat = np.zeros((numberOfLines, 3))\n",
    "    classLabelVector = []\n",
    "    index = 0\n",
    "    for line in arrayOLines:\n",
    "        line = line.strip()\n",
    "        listFormLine = line.split('\\t')\n",
    "        returnMat[index, :] = listFormLine[0:3]\n",
    "        classLabelVector.append(int(listFormLine[-1]))\n",
    "        index += 1\n",
    "    return returnMat, classLabelVector"
   ]
  },
  {
   "cell_type": "code",
   "execution_count": 5,
   "metadata": {},
   "outputs": [],
   "source": [
    "def autoNorm(dataSet):\n",
    "    minVals = dataSet.min(0)\n",
    "    maxVals = dataSet.max(0)\n",
    "    ranges = maxVals - minVals\n",
    "    normDataSet = np.zeros(np.shape(dataSet))\n",
    "    m = dataSet.shape[0]\n",
    "    normDataSet = dataSet - np.tile(minVals, (m, 1))\n",
    "    normDataSet = normDataSet / np.tile(ranges, (m, 1))\n",
    "    return normDataSet, ranges, minVals"
   ]
  },
  {
   "cell_type": "code",
   "execution_count": 6,
   "metadata": {},
   "outputs": [],
   "source": [
    "def datingClassTest():\n",
    "    hoRatio = 0.10\n",
    "    datingDataMat, datingLabels = file2matrix('datingTestSet2.txt')\n",
    "    normMat, ranges, minVals = autoNorm(datingDataMat)\n",
    "    m = normMat.shape[0]\n",
    "    numTestVecs = int(m * hoRatio) #10%测试数据\n",
    "    errorCount = 0.0\n",
    "    for i in range(numTestVecs):\n",
    "        classifierResult = classify0(normMat[i, :], normMat[numTestVecs:m, :], datingLabels[numTestVecs:m], 3)\n",
    "        print(\"The classifier came back with: %d, the real answer is: %d\" % (classifierResult, datingLabels[i]))\n",
    "        if(classifierResult != datingLabels[i]):\n",
    "            errorCount += 1.0\n",
    "    print(\"The total error rate is: %f\" % float(errorCount / numTestVecs))"
   ]
  },
  {
   "cell_type": "code",
   "execution_count": 7,
   "metadata": {},
   "outputs": [],
   "source": [
    "def classifyPerson():\n",
    "    resultList = ['not at all', 'in small doses', 'in large doses']\n",
    "    percentTats = float(input(\"Percentage of time spent playing video games?\"))\n",
    "    ffMiles = float(input(\"Frequent flier miles earned per year?\"))\n",
    "    iceCream = float(input(\"Liters of ice cream consumed per year?\"))\n",
    "    datingDataMat, datingLabels = file2matrix('datingTestSet2.txt')\n",
    "    normMat, ranges, minVals = autoNorm(datingDataMat)\n",
    "    inArr = np.array([percentTats, ffMiles, iceCream])\n",
    "    classifierResult = classify0((inArr - minVals) / ranges, normMat, datingLabels, 3)\n",
    "    print(\"You will probably like this person: \", resultList[classifierResult - 1])"
   ]
  },
  {
   "cell_type": "code",
   "execution_count": 8,
   "metadata": {},
   "outputs": [],
   "source": [
    "def img2vector(filename):\n",
    "    returnVect = np.zeros((1, 1024))\n",
    "    fr = open(filename)\n",
    "    for i in range(32):\n",
    "        lineStr = fr.readline()\n",
    "        for j in range(32):\n",
    "            returnVect[0, 32*i+j] = int(lineStr[j])\n",
    "    return returnVect"
   ]
  },
  {
   "cell_type": "code",
   "execution_count": 9,
   "metadata": {},
   "outputs": [],
   "source": [
    "def handwritingClassTest():\n",
    "    hwLabels = []\n",
    "    traingFileList = listdir('trainingDigits')\n",
    "    m = len(traingFileList)\n",
    "    traingMat = np.zeros((m, 1024))\n",
    "    for i in range(m):\n",
    "        fileNameStr = traingFileList[i]\n",
    "        fileStr = fileNameStr.split('.')[0]\n",
    "        classNumStr = int(fileStr.split('_')[0])\n",
    "        hwLabels.append(classNumStr)\n",
    "        traingMat[i, :] = img2vector('trainingDigits/%s' % fileNameStr)\n",
    "    testFileList = listdir('testDigits')\n",
    "    mTest = len(testFileList)\n",
    "    errorCount = 0.0\n",
    "    for i in range(mTest):\n",
    "        fileNameStr = testFileList[i]\n",
    "        fileStr = fileNameStr.split('.')[0]\n",
    "        classNumStr = int(fileStr.split('_')[0])\n",
    "        vectorUnderTest = img2vector('testDigits/%s' % fileNameStr)\n",
    "        classifierResult = classify0(vectorUnderTest, traingMat, hwLabels, 3)\n",
    "        print(\"The classifier came back with: %d, the real answer is: %d\" % (classifierResult, classNumStr))\n",
    "    if(classifierResult != classNumStr):\n",
    "        errorCount += 1\n",
    "    print(\"\\nThe total number of errors is: %d\" % errorCount)\n",
    "    print(\"\\nThe total error rate is: %f\" % (errorCount / float(mTest)))\n",
    "        "
   ]
  }
 ],
 "metadata": {
  "kernelspec": {
   "display_name": "Python 3",
   "language": "python",
   "name": "python3"
  },
  "language_info": {
   "codemirror_mode": {
    "name": "ipython",
    "version": 3
   },
   "file_extension": ".py",
   "mimetype": "text/x-python",
   "name": "python",
   "nbconvert_exporter": "python",
   "pygments_lexer": "ipython3",
   "version": "3.6.5"
  }
 },
 "nbformat": 4,
 "nbformat_minor": 2
}
