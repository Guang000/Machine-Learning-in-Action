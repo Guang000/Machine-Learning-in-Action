{
 "cells": [
  {
   "cell_type": "code",
   "execution_count": 1,
   "metadata": {},
   "outputs": [],
   "source": [
    "import bayes\n",
    "from imp import reload"
   ]
  },
  {
   "cell_type": "code",
   "execution_count": 2,
   "metadata": {},
   "outputs": [],
   "source": [
    "reload(bayes)\n",
    "listOPosts, listClasses = bayes.loadDataset()"
   ]
  },
  {
   "cell_type": "code",
   "execution_count": 3,
   "metadata": {},
   "outputs": [
    {
     "data": {
      "text/plain": [
       "['not',\n",
       " 'love',\n",
       " 'quit',\n",
       " 'so',\n",
       " 'to',\n",
       " 'problems',\n",
       " 'help',\n",
       " 'take',\n",
       " 'stop',\n",
       " 'ate',\n",
       " 'is',\n",
       " 'please',\n",
       " 'how',\n",
       " 'my',\n",
       " 'dog',\n",
       " 'worthless',\n",
       " 'has',\n",
       " 'licks',\n",
       " 'garbage',\n",
       " 'mr',\n",
       " 'stupid',\n",
       " 'park',\n",
       " 'flea',\n",
       " 'steak',\n",
       " 'dalmation',\n",
       " 'I',\n",
       " 'food',\n",
       " 'buying',\n",
       " 'posting',\n",
       " 'cute',\n",
       " 'maybe',\n",
       " 'him']"
      ]
     },
     "execution_count": 3,
     "metadata": {},
     "output_type": "execute_result"
    }
   ],
   "source": [
    "myVocablist = bayes.createVocabList(listOPosts)\n",
    "myVocablist"
   ]
  },
  {
   "cell_type": "code",
   "execution_count": 4,
   "metadata": {},
   "outputs": [
    {
     "data": {
      "text/plain": [
       "[0,\n",
       " 0,\n",
       " 0,\n",
       " 0,\n",
       " 0,\n",
       " 1,\n",
       " 1,\n",
       " 0,\n",
       " 0,\n",
       " 0,\n",
       " 0,\n",
       " 1,\n",
       " 0,\n",
       " 1,\n",
       " 1,\n",
       " 0,\n",
       " 1,\n",
       " 0,\n",
       " 0,\n",
       " 0,\n",
       " 0,\n",
       " 0,\n",
       " 1,\n",
       " 0,\n",
       " 0,\n",
       " 0,\n",
       " 0,\n",
       " 0,\n",
       " 0,\n",
       " 0,\n",
       " 0,\n",
       " 0]"
      ]
     },
     "execution_count": 4,
     "metadata": {},
     "output_type": "execute_result"
    }
   ],
   "source": [
    "bayes.setOfWords2Vec(myVocablist, listOPosts[0])"
   ]
  },
  {
   "cell_type": "code",
   "execution_count": 5,
   "metadata": {},
   "outputs": [],
   "source": [
    "trainMat = []\n",
    "for postinDoc in listOPosts:\n",
    "    trainMat.append(bayes.setOfWords2Vec(myVocablist, postinDoc))"
   ]
  },
  {
   "cell_type": "code",
   "execution_count": 6,
   "metadata": {},
   "outputs": [],
   "source": [
    "p0V, p1V, pAb = bayes.trainNB0(trainMat, listClasses)"
   ]
  },
  {
   "cell_type": "code",
   "execution_count": 7,
   "metadata": {},
   "outputs": [
    {
     "data": {
      "text/plain": [
       "0.5"
      ]
     },
     "execution_count": 7,
     "metadata": {},
     "output_type": "execute_result"
    }
   ],
   "source": [
    "pAb"
   ]
  },
  {
   "cell_type": "code",
   "execution_count": 8,
   "metadata": {},
   "outputs": [
    {
     "data": {
      "text/plain": [
       "array([-3.25809654, -2.56494936, -3.25809654, -2.56494936, -2.56494936,\n",
       "       -2.56494936, -2.56494936, -3.25809654, -2.56494936, -2.56494936,\n",
       "       -2.56494936, -2.56494936, -2.56494936, -1.87180218, -2.56494936,\n",
       "       -3.25809654, -2.56494936, -2.56494936, -3.25809654, -2.56494936,\n",
       "       -3.25809654, -3.25809654, -2.56494936, -2.56494936, -2.56494936,\n",
       "       -2.56494936, -3.25809654, -3.25809654, -3.25809654, -2.56494936,\n",
       "       -3.25809654, -2.15948425])"
      ]
     },
     "execution_count": 8,
     "metadata": {},
     "output_type": "execute_result"
    }
   ],
   "source": [
    "p0V"
   ]
  },
  {
   "cell_type": "code",
   "execution_count": 9,
   "metadata": {},
   "outputs": [
    {
     "data": {
      "text/plain": [
       "array([-2.35137526, -3.04452244, -2.35137526, -3.04452244, -2.35137526,\n",
       "       -3.04452244, -3.04452244, -2.35137526, -2.35137526, -3.04452244,\n",
       "       -3.04452244, -3.04452244, -3.04452244, -3.04452244, -1.94591015,\n",
       "       -1.94591015, -3.04452244, -3.04452244, -2.35137526, -3.04452244,\n",
       "       -1.65822808, -2.35137526, -3.04452244, -3.04452244, -3.04452244,\n",
       "       -3.04452244, -2.35137526, -2.35137526, -2.35137526, -3.04452244,\n",
       "       -2.35137526, -2.35137526])"
      ]
     },
     "execution_count": 9,
     "metadata": {},
     "output_type": "execute_result"
    }
   ],
   "source": [
    "p1V"
   ]
  },
  {
   "cell_type": "code",
   "execution_count": 10,
   "metadata": {},
   "outputs": [
    {
     "name": "stdout",
     "output_type": "stream",
     "text": [
      "['love', 'my', 'dalmation'] classified as:  0\n",
      "['stupid', 'garbage'] classified as:  1\n"
     ]
    }
   ],
   "source": [
    "reload(bayes)\n",
    "bayes.testingNB()"
   ]
  },
  {
   "cell_type": "code",
   "execution_count": 11,
   "metadata": {},
   "outputs": [
    {
     "data": {
      "text/plain": [
       "['This',\n",
       " 'book',\n",
       " 'is',\n",
       " 'the',\n",
       " 'best',\n",
       " 'book',\n",
       " 'on',\n",
       " 'Python',\n",
       " 'or',\n",
       " 'M.L.',\n",
       " 'I',\n",
       " 'have',\n",
       " 'ever',\n",
       " 'laid',\n",
       " 'eyes',\n",
       " 'upon.']"
      ]
     },
     "execution_count": 11,
     "metadata": {},
     "output_type": "execute_result"
    }
   ],
   "source": [
    "mySent = 'This book is the best book on Python or M.L. I have ever laid eyes upon.'\n",
    "mySent.split()"
   ]
  },
  {
   "cell_type": "code",
   "execution_count": 12,
   "metadata": {},
   "outputs": [
    {
     "name": "stderr",
     "output_type": "stream",
     "text": [
      "E:\\Anaconda\\anaconda\\lib\\site-packages\\ipykernel_launcher.py:3: FutureWarning: split() requires a non-empty pattern match.\n",
      "  This is separate from the ipykernel package so we can avoid doing imports until\n"
     ]
    },
    {
     "data": {
      "text/plain": [
       "['This',\n",
       " 'book',\n",
       " 'is',\n",
       " 'the',\n",
       " 'best',\n",
       " 'book',\n",
       " 'on',\n",
       " 'Python',\n",
       " 'or',\n",
       " 'M',\n",
       " 'L',\n",
       " 'I',\n",
       " 'have',\n",
       " 'ever',\n",
       " 'laid',\n",
       " 'eyes',\n",
       " 'upon',\n",
       " '']"
      ]
     },
     "execution_count": 12,
     "metadata": {},
     "output_type": "execute_result"
    }
   ],
   "source": [
    "import re\n",
    "regEx = re.compile('\\\\W*')\n",
    "listOfTokens = regEx.split(mySent)\n",
    "listOfTokens"
   ]
  },
  {
   "cell_type": "code",
   "execution_count": 13,
   "metadata": {},
   "outputs": [
    {
     "data": {
      "text/plain": [
       "['this',\n",
       " 'book',\n",
       " 'is',\n",
       " 'the',\n",
       " 'best',\n",
       " 'book',\n",
       " 'on',\n",
       " 'python',\n",
       " 'or',\n",
       " 'm',\n",
       " 'l',\n",
       " 'i',\n",
       " 'have',\n",
       " 'ever',\n",
       " 'laid',\n",
       " 'eyes',\n",
       " 'upon']"
      ]
     },
     "execution_count": 13,
     "metadata": {},
     "output_type": "execute_result"
    }
   ],
   "source": [
    "[tok.lower() for tok in listOfTokens if len(tok) > 0]"
   ]
  },
  {
   "cell_type": "code",
   "execution_count": 14,
   "metadata": {},
   "outputs": [
    {
     "name": "stderr",
     "output_type": "stream",
     "text": [
      "E:\\Anaconda\\anaconda\\lib\\site-packages\\ipykernel_launcher.py:2: FutureWarning: split() requires a non-empty pattern match.\n",
      "  \n"
     ]
    }
   ],
   "source": [
    "emailText = open('email/ham/6.txt').read()\n",
    "listOfTokens = regEx.split(emailText)"
   ]
  },
  {
   "cell_type": "code",
   "execution_count": 15,
   "metadata": {},
   "outputs": [
    {
     "data": {
      "text/plain": [
       "['Hello',\n",
       " 'Since',\n",
       " 'you',\n",
       " 'are',\n",
       " 'an',\n",
       " 'owner',\n",
       " 'of',\n",
       " 'at',\n",
       " 'least',\n",
       " 'one',\n",
       " 'Google',\n",
       " 'Groups',\n",
       " 'group',\n",
       " 'that',\n",
       " 'uses',\n",
       " 'the',\n",
       " 'customized',\n",
       " 'welcome',\n",
       " 'message',\n",
       " 'pages',\n",
       " 'or',\n",
       " 'files',\n",
       " 'we',\n",
       " 'are',\n",
       " 'writing',\n",
       " 'to',\n",
       " 'inform',\n",
       " 'you',\n",
       " 'that',\n",
       " 'we',\n",
       " 'will',\n",
       " 'no',\n",
       " 'longer',\n",
       " 'be',\n",
       " 'supporting',\n",
       " 'these',\n",
       " 'features',\n",
       " 'starting',\n",
       " 'February',\n",
       " '2011',\n",
       " 'We',\n",
       " 'made',\n",
       " 'this',\n",
       " 'decision',\n",
       " 'so',\n",
       " 'that',\n",
       " 'we',\n",
       " 'can',\n",
       " 'focus',\n",
       " 'on',\n",
       " 'improving',\n",
       " 'the',\n",
       " 'core',\n",
       " 'functionalities',\n",
       " 'of',\n",
       " 'Google',\n",
       " 'Groups',\n",
       " 'mailing',\n",
       " 'lists',\n",
       " 'and',\n",
       " 'forum',\n",
       " 'discussions',\n",
       " 'Instead',\n",
       " 'of',\n",
       " 'these',\n",
       " 'features',\n",
       " 'we',\n",
       " 'encourage',\n",
       " 'you',\n",
       " 'to',\n",
       " 'use',\n",
       " 'products',\n",
       " 'that',\n",
       " 'are',\n",
       " 'designed',\n",
       " 'specifically',\n",
       " 'for',\n",
       " 'file',\n",
       " 'storage',\n",
       " 'and',\n",
       " 'page',\n",
       " 'creation',\n",
       " 'such',\n",
       " 'as',\n",
       " 'Google',\n",
       " 'Docs',\n",
       " 'and',\n",
       " 'Google',\n",
       " 'Sites',\n",
       " 'For',\n",
       " 'example',\n",
       " 'you',\n",
       " 'can',\n",
       " 'easily',\n",
       " 'create',\n",
       " 'your',\n",
       " 'pages',\n",
       " 'on',\n",
       " 'Google',\n",
       " 'Sites',\n",
       " 'and',\n",
       " 'share',\n",
       " 'the',\n",
       " 'site',\n",
       " 'http',\n",
       " 'www',\n",
       " 'google',\n",
       " 'com',\n",
       " 'support',\n",
       " 'sites',\n",
       " 'bin',\n",
       " 'answer',\n",
       " 'py',\n",
       " 'hl',\n",
       " 'en',\n",
       " 'answer',\n",
       " '174623',\n",
       " 'with',\n",
       " 'the',\n",
       " 'members',\n",
       " 'of',\n",
       " 'your',\n",
       " 'group',\n",
       " 'You',\n",
       " 'can',\n",
       " 'also',\n",
       " 'store',\n",
       " 'your',\n",
       " 'files',\n",
       " 'on',\n",
       " 'the',\n",
       " 'site',\n",
       " 'by',\n",
       " 'attaching',\n",
       " 'files',\n",
       " 'to',\n",
       " 'pages',\n",
       " 'http',\n",
       " 'www',\n",
       " 'google',\n",
       " 'com',\n",
       " 'support',\n",
       " 'sites',\n",
       " 'bin',\n",
       " 'answer',\n",
       " 'py',\n",
       " 'hl',\n",
       " 'en',\n",
       " 'answer',\n",
       " '90563',\n",
       " 'on',\n",
       " 'the',\n",
       " 'site',\n",
       " 'If',\n",
       " 'you',\n",
       " 'have',\n",
       " 'just',\n",
       " 'looking',\n",
       " 'for',\n",
       " 'a',\n",
       " 'place',\n",
       " 'to',\n",
       " 'upload',\n",
       " 'your',\n",
       " 'files',\n",
       " 'so',\n",
       " 'that',\n",
       " 'your',\n",
       " 'group',\n",
       " 'members',\n",
       " 'can',\n",
       " 'download',\n",
       " 'them',\n",
       " 'we',\n",
       " 'suggest',\n",
       " 'you',\n",
       " 'try',\n",
       " 'Google',\n",
       " 'Docs',\n",
       " 'You',\n",
       " 'can',\n",
       " 'upload',\n",
       " 'files',\n",
       " 'http',\n",
       " 'docs',\n",
       " 'google',\n",
       " 'com',\n",
       " 'support',\n",
       " 'bin',\n",
       " 'answer',\n",
       " 'py',\n",
       " 'hl',\n",
       " 'en',\n",
       " 'answer',\n",
       " '50092',\n",
       " 'and',\n",
       " 'share',\n",
       " 'access',\n",
       " 'with',\n",
       " 'either',\n",
       " 'a',\n",
       " 'group',\n",
       " 'http',\n",
       " 'docs',\n",
       " 'google',\n",
       " 'com',\n",
       " 'support',\n",
       " 'bin',\n",
       " 'answer',\n",
       " 'py',\n",
       " 'hl',\n",
       " 'en',\n",
       " 'answer',\n",
       " '66343',\n",
       " 'or',\n",
       " 'an',\n",
       " 'individual',\n",
       " 'http',\n",
       " 'docs',\n",
       " 'google',\n",
       " 'com',\n",
       " 'support',\n",
       " 'bin',\n",
       " 'answer',\n",
       " 'py',\n",
       " 'hl',\n",
       " 'en',\n",
       " 'answer',\n",
       " '86152',\n",
       " 'assigning',\n",
       " 'either',\n",
       " 'edit',\n",
       " 'or',\n",
       " 'download',\n",
       " 'only',\n",
       " 'access',\n",
       " 'to',\n",
       " 'the',\n",
       " 'files',\n",
       " 'you',\n",
       " 'have',\n",
       " 'received',\n",
       " 'this',\n",
       " 'mandatory',\n",
       " 'email',\n",
       " 'service',\n",
       " 'announcement',\n",
       " 'to',\n",
       " 'update',\n",
       " 'you',\n",
       " 'about',\n",
       " 'important',\n",
       " 'changes',\n",
       " 'to',\n",
       " 'Google',\n",
       " 'Groups',\n",
       " '']"
      ]
     },
     "execution_count": 15,
     "metadata": {},
     "output_type": "execute_result"
    }
   ],
   "source": [
    "listOfTokens"
   ]
  },
  {
   "cell_type": "code",
   "execution_count": 16,
   "metadata": {},
   "outputs": [
    {
     "name": "stderr",
     "output_type": "stream",
     "text": [
      "E:\\Anaconda\\anaconda\\lib\\re.py:212: FutureWarning: split() requires a non-empty pattern match.\n",
      "  return _compile(pattern, flags).split(string, maxsplit)\n"
     ]
    },
    {
     "name": "stdout",
     "output_type": "stream",
     "text": [
      "The error rate is:  0.0\n"
     ]
    }
   ],
   "source": [
    "reload(bayes)\n",
    "bayes.spamTest()"
   ]
  },
  {
   "cell_type": "code",
   "execution_count": 17,
   "metadata": {},
   "outputs": [],
   "source": [
    "import feedparser"
   ]
  },
  {
   "cell_type": "code",
   "execution_count": 18,
   "metadata": {},
   "outputs": [
    {
     "data": {
      "text/plain": [
       "60"
      ]
     },
     "execution_count": 18,
     "metadata": {},
     "output_type": "execute_result"
    }
   ],
   "source": [
    "ny = feedparser.parse('http://www.nasa.gov/rss/dyn/image_of_the_day.rss')\n",
    "ny['entries']\n",
    "len(ny['entries'])"
   ]
  },
  {
   "cell_type": "code",
   "execution_count": 19,
   "metadata": {},
   "outputs": [
    {
     "data": {
      "text/plain": [
       "3"
      ]
     },
     "execution_count": 19,
     "metadata": {},
     "output_type": "execute_result"
    }
   ],
   "source": [
    "sf = feedparser.parse('http://sports.yahoo.com/nba/teams/hou/rss.xml')\n",
    "sf['entries']\n",
    "len(sf['entries'])"
   ]
  },
  {
   "cell_type": "code",
   "execution_count": 20,
   "metadata": {},
   "outputs": [],
   "source": [
    "reload(bayes)\n",
    "ny = feedparser.parse('http://www.nasa.gov/rss/dyn/image_of_the_day.rss')\n",
    "sf = feedparser.parse('http://sports.yahoo.com/nba/teams/hou/rss.xml')"
   ]
  },
  {
   "cell_type": "code",
   "execution_count": 21,
   "metadata": {},
   "outputs": [
    {
     "name": "stdout",
     "output_type": "stream",
     "text": [
      "The error rate is:  0.3333333333333333\n"
     ]
    },
    {
     "name": "stderr",
     "output_type": "stream",
     "text": [
      "E:\\Anaconda\\anaconda\\lib\\re.py:212: FutureWarning: split() requires a non-empty pattern match.\n",
      "  return _compile(pattern, flags).split(string, maxsplit)\n"
     ]
    }
   ],
   "source": [
    "vocabList, pSF, pNY = bayes.localWords(ny, sf)"
   ]
  },
  {
   "cell_type": "code",
   "execution_count": 22,
   "metadata": {},
   "outputs": [
    {
     "data": {
      "text/plain": [
       "<module 'bayes' from 'D:\\\\Jupyter\\\\Machine Learning\\\\Naive Bayes\\\\bayes.py'>"
      ]
     },
     "execution_count": 22,
     "metadata": {},
     "output_type": "execute_result"
    }
   ],
   "source": [
    "reload(bayes)"
   ]
  },
  {
   "cell_type": "code",
   "execution_count": 23,
   "metadata": {},
   "outputs": [
    {
     "name": "stdout",
     "output_type": "stream",
     "text": [
      "The error rate is:  0.3333333333333333\n",
      "SF***SF***SF***\n",
      "week\n",
      "d\n",
      "mike\n",
      "anaemic\n",
      "says\n",
      "antoni\n",
      "offense\n",
      "soon\n",
      "change\n",
      "fortunes\n",
      "houston\n",
      "calling\n",
      "will\n",
      "delivered\n",
      "their\n",
      "are\n",
      "tests\n",
      "validate\n",
      "might\n",
      "station\n",
      "recovered\n",
      "at\n",
      "talks\n",
      "san\n",
      "operational\n",
      "black\n",
      "sunset\n",
      "test\n",
      "procedures\n",
      "one\n",
      "magnified\n",
      "2017\n",
      "version\n",
      "oli\n",
      "historic\n",
      "how\n",
      "still\n",
      "series\n",
      "hardware\n",
      "loss\n",
      "evaluating\n",
      "thunder\n",
      "spurs\n",
      "terrain\n",
      "feb\n",
      "saturday\n",
      "mile\n",
      "landsat\n",
      "nueces\n",
      "sea\n",
      "offensive\n",
      "adrian\n",
      "have\n",
      "by\n",
      "uss\n",
      "international\n",
      "verify\n",
      "capsule\n",
      "down\n",
      "could\n",
      "nov\n",
      "re\n",
      "flooding\n",
      "parties\n",
      "used\n",
      "wojnarowski\n",
      "is\n",
      "possibly\n",
      "pacific\n",
      "his\n",
      "t\n",
      "able\n",
      "deep\n",
      "image\n",
      "amounts\n",
      "snow\n",
      "relationship\n",
      "view\n",
      "1\n",
      "hasn\n",
      "orion\n",
      "be\n",
      "captured\n",
      "so\n",
      "news\n",
      "around\n",
      "no\n",
      "proceed\n",
      "coach\n",
      "recover\n",
      "together\n",
      "curling\n",
      "400\n",
      "texas\n",
      "ongoing\n",
      "for\n",
      "they\n",
      "flowing\n",
      "team\n",
      "central\n",
      "been\n",
      "spacecraft\n",
      "it\n",
      "engaged\n",
      "antonio\n",
      "color\n",
      "s\n",
      "that\n",
      "exploration\n",
      "8\n",
      "season\n",
      "continued\n",
      "coming\n",
      "storms\n",
      "9th\n",
      "russia\n",
      "along\n",
      "rain\n",
      "answer\n",
      "player\n",
      "carmelo\n",
      "appears\n",
      "missions\n",
      "both\n",
      "far\n",
      "against\n",
      "thursday\n",
      "false\n",
      "city\n",
      "following\n",
      "ocean\n",
      "nba\n",
      "space\n",
      "dnieper\n",
      "slow\n",
      "oklahoma\n",
      "john\n",
      "murtha\n",
      "land\n",
      "struggles\n",
      "anthony\n",
      "splashes\n",
      "rest\n",
      "drifts\n",
      "according\n",
      "game\n",
      "blowout\n",
      "start\n",
      "espn\n",
      "out\n",
      "2018\n",
      "river\n",
      "from\n",
      "lamented\n",
      "imager\n",
      "seen\n",
      "p\n",
      "with\n",
      "NY***NY***NY***\n",
      "1\n",
      "river\n",
      "from\n",
      "delivered\n",
      "are\n",
      "station\n",
      "operational\n",
      "black\n",
      "magnified\n",
      "2017\n",
      "oli\n",
      "historic\n",
      "series\n",
      "terrain\n",
      "feb\n",
      "mile\n",
      "landsat\n",
      "nueces\n",
      "sea\n",
      "have\n",
      "by\n",
      "international\n",
      "nov\n",
      "flooding\n",
      "image\n",
      "amounts\n",
      "snow\n",
      "view\n",
      "captured\n",
      "around\n",
      "curling\n",
      "400\n",
      "texas\n",
      "flowing\n",
      "central\n",
      "color\n",
      "that\n",
      "8\n",
      "storms\n",
      "9th\n",
      "russia\n",
      "along\n",
      "rain\n",
      "false\n",
      "space\n",
      "dnieper\n",
      "land\n",
      "drifts\n",
      "2018\n",
      "imager\n",
      "week\n",
      "their\n",
      "tests\n",
      "validate\n",
      "might\n",
      "d\n",
      "recovered\n",
      "mike\n",
      "at\n",
      "talks\n",
      "anaemic\n",
      "san\n",
      "sunset\n",
      "test\n",
      "procedures\n",
      "one\n",
      "says\n",
      "version\n",
      "how\n",
      "still\n",
      "hardware\n",
      "loss\n",
      "evaluating\n",
      "thunder\n",
      "spurs\n",
      "saturday\n",
      "offensive\n",
      "adrian\n",
      "antoni\n",
      "uss\n",
      "verify\n",
      "capsule\n",
      "down\n",
      "could\n",
      "re\n",
      "offense\n",
      "parties\n",
      "used\n",
      "wojnarowski\n",
      "is\n",
      "possibly\n",
      "pacific\n",
      "his\n",
      "t\n",
      "able\n",
      "deep\n",
      "relationship\n",
      "hasn\n",
      "orion\n",
      "be\n",
      "so\n",
      "news\n",
      "no\n",
      "proceed\n",
      "coach\n",
      "soon\n",
      "recover\n",
      "together\n",
      "ongoing\n",
      "for\n",
      "they\n",
      "team\n",
      "been\n",
      "spacecraft\n",
      "it\n",
      "engaged\n",
      "antonio\n",
      "s\n",
      "exploration\n",
      "season\n",
      "continued\n",
      "coming\n",
      "answer\n",
      "player\n",
      "carmelo\n",
      "appears\n",
      "missions\n",
      "both\n",
      "far\n",
      "against\n",
      "change\n",
      "thursday\n",
      "city\n",
      "following\n",
      "ocean\n",
      "nba\n",
      "fortunes\n",
      "slow\n",
      "oklahoma\n",
      "john\n",
      "murtha\n",
      "struggles\n",
      "anthony\n",
      "splashes\n",
      "rest\n",
      "houston\n",
      "according\n",
      "game\n",
      "blowout\n",
      "start\n",
      "espn\n",
      "calling\n",
      "out\n",
      "lamented\n",
      "seen\n",
      "p\n",
      "with\n",
      "will\n"
     ]
    },
    {
     "name": "stderr",
     "output_type": "stream",
     "text": [
      "E:\\Anaconda\\anaconda\\lib\\re.py:212: FutureWarning: split() requires a non-empty pattern match.\n",
      "  return _compile(pattern, flags).split(string, maxsplit)\n"
     ]
    }
   ],
   "source": [
    "bayes.getTopWords(ny, sf)"
   ]
  },
  {
   "cell_type": "code",
   "execution_count": null,
   "metadata": {},
   "outputs": [],
   "source": []
  }
 ],
 "metadata": {
  "kernelspec": {
   "display_name": "Python 3",
   "language": "python",
   "name": "python3"
  },
  "language_info": {
   "codemirror_mode": {
    "name": "ipython",
    "version": 3
   },
   "file_extension": ".py",
   "mimetype": "text/x-python",
   "name": "python",
   "nbconvert_exporter": "python",
   "pygments_lexer": "ipython3",
   "version": "3.6.5"
  }
 },
 "nbformat": 4,
 "nbformat_minor": 2
}
